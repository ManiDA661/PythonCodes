{
  "nbformat": 4,
  "nbformat_minor": 0,
  "metadata": {
    "colab": {
      "provenance": []
    },
    "kernelspec": {
      "name": "python3",
      "display_name": "Python 3"
    },
    "language_info": {
      "name": "python"
    }
  },
  "cells": [
    {
      "cell_type": "code",
      "execution_count": null,
      "metadata": {
        "colab": {
          "base_uri": "https://localhost:8080/"
        },
        "id": "RqxObC8x4q0w",
        "outputId": "73fae79b-afa3-46c7-910c-44440dd27be2"
      },
      "outputs": [
        {
          "output_type": "stream",
          "name": "stdout",
          "text": [
            "Hello there!\n",
            "How are you?\n",
            "I'm doing great,Thank you.\n"
          ]
        }
      ],
      "source": [
        "print(\"Hello there!\\nHow are you?\\nI\\'m doing great,Thank you.\")"
      ]
    },
    {
      "cell_type": "markdown",
      "source": [
        "# **Raw Strings**"
      ],
      "metadata": {
        "id": "pHvis6pI5xWF"
      }
    },
    {
      "cell_type": "code",
      "source": [
        "print(r\"Hello there! How are you doing?\\n I\\'m doing great, Thank you.\")"
      ],
      "metadata": {
        "colab": {
          "base_uri": "https://localhost:8080/"
        },
        "id": "u1uTDqQQ5zmp",
        "outputId": "25a1454f-069b-4c1e-af92-1e0c57b93004"
      },
      "execution_count": null,
      "outputs": [
        {
          "output_type": "stream",
          "name": "stdout",
          "text": [
            "Hello there! How are you doing?\\n I\\'m doing great, Thank you.\n"
          ]
        }
      ]
    },
    {
      "cell_type": "code",
      "source": [
        "print(r\"C:\\Program Files\\Greenshot\\Languages\\File-1.html\")"
      ],
      "metadata": {
        "colab": {
          "base_uri": "https://localhost:8080/"
        },
        "id": "R2KTnwgS6B9h",
        "outputId": "aeb46c4c-57f9-40d7-ba76-0a33521c196a"
      },
      "execution_count": null,
      "outputs": [
        {
          "output_type": "stream",
          "name": "stdout",
          "text": [
            "C:\\Program Files\\Greenshot\\Languages\\File-1.html\n"
          ]
        }
      ]
    },
    {
      "cell_type": "markdown",
      "source": [
        "# **Multi Line Strings**"
      ],
      "metadata": {
        "id": "wW5-7npl6Uaq"
      }
    },
    {
      "cell_type": "code",
      "source": [
        "print('''\n",
        "      Dear Alice,\n",
        "      I’m not feeling well, so unfortunately, I won’t be able to attend the party you’re hosting.\n",
        "\n",
        "      Please accept my apologies.\n",
        "\n",
        "      Regards,\n",
        "      Manikantan.\n",
        "\n",
        "\n",
        "      ''')\n",
        "\n",
        "\n"
      ],
      "metadata": {
        "colab": {
          "base_uri": "https://localhost:8080/"
        },
        "id": "vcxDz8a96e_1",
        "outputId": "6377c25f-3dd3-4e00-c76b-068dc6e96833"
      },
      "execution_count": null,
      "outputs": [
        {
          "output_type": "stream",
          "name": "stdout",
          "text": [
            "\n",
            "      Dear Alice,\n",
            "      I’m not feeling well, so unfortunately, I won’t be able to attend the party you’re hosting.\n",
            "\n",
            "      Please accept my apologies.\n",
            "\n",
            "      Regards,\n",
            "      Manikantan.\n",
            "\n",
            "\n",
            "      \n"
          ]
        }
      ]
    },
    {
      "cell_type": "markdown",
      "source": [
        "# **INDEXING**"
      ],
      "metadata": {
        "id": "IRZb8X3U787v"
      }
    },
    {
      "cell_type": "code",
      "source": [
        "str = \"Hello World!\"\n",
        "str"
      ],
      "metadata": {
        "colab": {
          "base_uri": "https://localhost:8080/",
          "height": 35
        },
        "id": "VoqlQ8pP8C8q",
        "outputId": "922dfda5-4575-47ff-f084-0e22d872321f"
      },
      "execution_count": null,
      "outputs": [
        {
          "output_type": "execute_result",
          "data": {
            "text/plain": [
              "'Hello World!'"
            ],
            "application/vnd.google.colaboratory.intrinsic+json": {
              "type": "string"
            }
          },
          "metadata": {},
          "execution_count": 6
        }
      ]
    },
    {
      "cell_type": "code",
      "source": [
        "print(str[0]) #1st character of the string\n",
        "print(str[-1]) #last character of the string\n",
        "print(str[4]) #5th character of the string\n",
        "print(str[:]) # entire character"
      ],
      "metadata": {
        "colab": {
          "base_uri": "https://localhost:8080/"
        },
        "id": "y5_fQ7fB8IQQ",
        "outputId": "a6f50e0b-ef41-4fb8-a7fb-297aa5a66d65"
      },
      "execution_count": null,
      "outputs": [
        {
          "output_type": "stream",
          "name": "stdout",
          "text": [
            "H\n",
            "!\n",
            "o\n",
            "Hello World!\n"
          ]
        }
      ]
    },
    {
      "cell_type": "markdown",
      "source": [
        "# **Slicing**"
      ],
      "metadata": {
        "id": "H0pbeFDB81Lb"
      }
    },
    {
      "cell_type": "code",
      "source": [
        "str[0:4]"
      ],
      "metadata": {
        "colab": {
          "base_uri": "https://localhost:8080/",
          "height": 35
        },
        "id": "cTBRq1N185Bf",
        "outputId": "d98fb839-6f19-4f26-dce7-b60db446f232"
      },
      "execution_count": null,
      "outputs": [
        {
          "output_type": "execute_result",
          "data": {
            "text/plain": [
              "'Hell'"
            ],
            "application/vnd.google.colaboratory.intrinsic+json": {
              "type": "string"
            }
          },
          "metadata": {},
          "execution_count": 8
        }
      ]
    },
    {
      "cell_type": "code",
      "source": [
        "str[:5]"
      ],
      "metadata": {
        "colab": {
          "base_uri": "https://localhost:8080/",
          "height": 35
        },
        "id": "ZovAg82x8_H7",
        "outputId": "e46bdb34-8147-42d5-ee38-baf5b9f145ed"
      },
      "execution_count": null,
      "outputs": [
        {
          "output_type": "execute_result",
          "data": {
            "text/plain": [
              "'Hello'"
            ],
            "application/vnd.google.colaboratory.intrinsic+json": {
              "type": "string"
            }
          },
          "metadata": {},
          "execution_count": 9
        }
      ]
    },
    {
      "cell_type": "code",
      "source": [
        "str[6:-1]"
      ],
      "metadata": {
        "colab": {
          "base_uri": "https://localhost:8080/",
          "height": 35
        },
        "id": "1bpYhbKi9Igt",
        "outputId": "08e870ef-a527-41e1-c36e-2e458d56dc55"
      },
      "execution_count": null,
      "outputs": [
        {
          "output_type": "execute_result",
          "data": {
            "text/plain": [
              "'World'"
            ],
            "application/vnd.google.colaboratory.intrinsic+json": {
              "type": "string"
            }
          },
          "metadata": {},
          "execution_count": 10
        }
      ]
    },
    {
      "cell_type": "code",
      "source": [
        "str[::-1]"
      ],
      "metadata": {
        "colab": {
          "base_uri": "https://localhost:8080/",
          "height": 35
        },
        "id": "vBH1cKa69ah9",
        "outputId": "cfe37dd9-8001-43ff-99ab-c595735f7c50"
      },
      "execution_count": null,
      "outputs": [
        {
          "output_type": "execute_result",
          "data": {
            "text/plain": [
              "'!dlroW olleH'"
            ],
            "application/vnd.google.colaboratory.intrinsic+json": {
              "type": "string"
            }
          },
          "metadata": {},
          "execution_count": 11
        }
      ]
    },
    {
      "cell_type": "code",
      "source": [
        "str[0:5]"
      ],
      "metadata": {
        "colab": {
          "base_uri": "https://localhost:8080/",
          "height": 35
        },
        "id": "ag6L9aE99lqs",
        "outputId": "8f8e7f47-59a8-4b02-ec60-0015bc36aed9"
      },
      "execution_count": null,
      "outputs": [
        {
          "output_type": "execute_result",
          "data": {
            "text/plain": [
              "'Hello'"
            ],
            "application/vnd.google.colaboratory.intrinsic+json": {
              "type": "string"
            }
          },
          "metadata": {},
          "execution_count": 12
        }
      ]
    },
    {
      "cell_type": "markdown",
      "source": [
        "# **In and Not in Operators**"
      ],
      "metadata": {
        "id": "16YELTpC9qlS"
      }
    },
    {
      "cell_type": "code",
      "source": [
        "'Hello' in str"
      ],
      "metadata": {
        "colab": {
          "base_uri": "https://localhost:8080/"
        },
        "id": "k3R8NmNB9t46",
        "outputId": "4e7b2a78-f6a2-47b7-b0cf-bb3e042a6d0f"
      },
      "execution_count": null,
      "outputs": [
        {
          "output_type": "execute_result",
          "data": {
            "text/plain": [
              "True"
            ]
          },
          "metadata": {},
          "execution_count": 13
        }
      ]
    },
    {
      "cell_type": "code",
      "source": [
        "'wereld' in str"
      ],
      "metadata": {
        "colab": {
          "base_uri": "https://localhost:8080/"
        },
        "id": "7hKc5KrD94hA",
        "outputId": "c14c6804-0201-41a6-fa69-9fe306147e4f"
      },
      "execution_count": null,
      "outputs": [
        {
          "output_type": "execute_result",
          "data": {
            "text/plain": [
              "False"
            ]
          },
          "metadata": {},
          "execution_count": 14
        }
      ]
    },
    {
      "cell_type": "code",
      "source": [
        "'HELLO' in str"
      ],
      "metadata": {
        "colab": {
          "base_uri": "https://localhost:8080/"
        },
        "id": "DyXZPPJc9_1i",
        "outputId": "833c5d63-e0e6-48f6-dc31-c305bf1b7202"
      },
      "execution_count": null,
      "outputs": [
        {
          "output_type": "execute_result",
          "data": {
            "text/plain": [
              "False"
            ]
          },
          "metadata": {},
          "execution_count": 15
        }
      ]
    },
    {
      "cell_type": "code",
      "source": [
        "' ' in str"
      ],
      "metadata": {
        "colab": {
          "base_uri": "https://localhost:8080/"
        },
        "id": "lyzabLSH_RgJ",
        "outputId": "916b72e9-9422-4766-b186-a51137f6cc3a"
      },
      "execution_count": null,
      "outputs": [
        {
          "output_type": "execute_result",
          "data": {
            "text/plain": [
              "True"
            ]
          },
          "metadata": {},
          "execution_count": 16
        }
      ]
    },
    {
      "cell_type": "code",
      "source": [
        "'wereld' not in str"
      ],
      "metadata": {
        "colab": {
          "base_uri": "https://localhost:8080/"
        },
        "id": "Q_gRyT--_YQH",
        "outputId": "173807de-a436-4a6d-f6eb-2b17071e8a34"
      },
      "execution_count": null,
      "outputs": [
        {
          "output_type": "execute_result",
          "data": {
            "text/plain": [
              "True"
            ]
          },
          "metadata": {},
          "execution_count": 17
        }
      ]
    },
    {
      "cell_type": "markdown",
      "source": [
        "# **upper(), lower() and title()**"
      ],
      "metadata": {
        "id": "sOJzxys9_fvE"
      }
    },
    {
      "cell_type": "code",
      "source": [
        "strGreetings = \"Hello Good Morning\"\n",
        "print(strGreetings.upper())\n",
        "strGreetings = strGreetings.upper()\n",
        "print(strGreetings.isupper())\n"
      ],
      "metadata": {
        "colab": {
          "base_uri": "https://localhost:8080/"
        },
        "id": "8bwiBSSK_ucb",
        "outputId": "6e3187cb-8cde-4aef-f530-e799f2389537"
      },
      "execution_count": null,
      "outputs": [
        {
          "output_type": "stream",
          "name": "stdout",
          "text": [
            "HELLO GOOD MORNING\n",
            "True\n"
          ]
        }
      ]
    },
    {
      "cell_type": "code",
      "source": [
        "print(strGreetings.lower())\n",
        "strGreetings = strGreetings.lower()\n",
        "print(strGreetings.islower())"
      ],
      "metadata": {
        "colab": {
          "base_uri": "https://localhost:8080/"
        },
        "id": "HWHN3VYfAjIm",
        "outputId": "f76380f3-7406-4ace-a2da-af07cef36df4"
      },
      "execution_count": null,
      "outputs": [
        {
          "output_type": "stream",
          "name": "stdout",
          "text": [
            "hello good morning\n",
            "True\n"
          ]
        }
      ]
    },
    {
      "cell_type": "code",
      "source": [
        "strGreetings.title()"
      ],
      "metadata": {
        "colab": {
          "base_uri": "https://localhost:8080/",
          "height": 35
        },
        "id": "MdP1YRmdAslR",
        "outputId": "a6879994-5a0c-4c82-de42-5876b72f8979"
      },
      "execution_count": null,
      "outputs": [
        {
          "output_type": "execute_result",
          "data": {
            "text/plain": [
              "'Hello Good Morning'"
            ],
            "application/vnd.google.colaboratory.intrinsic+json": {
              "type": "string"
            }
          },
          "metadata": {},
          "execution_count": 20
        }
      ]
    },
    {
      "cell_type": "code",
      "source": [
        "#isalpha() to whether where input string is alphabets\n",
        "str = 'HelloPython'\n",
        "print(str.isalpha())\n"
      ],
      "metadata": {
        "colab": {
          "base_uri": "https://localhost:8080/"
        },
        "id": "0Mcb1znYrgQS",
        "outputId": "6f49519f-35ee-4732-9152-b29de3f54d8e"
      },
      "execution_count": null,
      "outputs": [
        {
          "output_type": "stream",
          "name": "stdout",
          "text": [
            "True\n"
          ]
        }
      ]
    },
    {
      "cell_type": "code",
      "source": [
        "#isalnum() to whether where input string is alpha numeric\n",
        "str = 'Pa55w0rd'\n",
        "print(str.isalnum())"
      ],
      "metadata": {
        "colab": {
          "base_uri": "https://localhost:8080/"
        },
        "id": "zSyPDigSsZHT",
        "outputId": "3bcc0f49-8dca-45b4-8e66-566694899ca6"
      },
      "execution_count": null,
      "outputs": [
        {
          "output_type": "stream",
          "name": "stdout",
          "text": [
            "True\n"
          ]
        }
      ]
    },
    {
      "cell_type": "code",
      "source": [
        "#isdecimal() to check string consists only of numbers\n",
        "dec = \"12\"\n",
        "dec.isdecimal()"
      ],
      "metadata": {
        "colab": {
          "base_uri": "https://localhost:8080/"
        },
        "id": "OJdMQqpMsrDP",
        "outputId": "2c3fbf69-1a2a-4e98-e603-27810e26132f"
      },
      "execution_count": null,
      "outputs": [
        {
          "output_type": "execute_result",
          "data": {
            "text/plain": [
              "True"
            ]
          },
          "metadata": {},
          "execution_count": 61
        }
      ]
    },
    {
      "cell_type": "code",
      "source": [
        "strtext = \"Hello World!\"\n",
        "strtext.startswith(\"Hel\")"
      ],
      "metadata": {
        "colab": {
          "base_uri": "https://localhost:8080/"
        },
        "id": "5N8Ogr2otY6g",
        "outputId": "a6ba0663-14df-4d59-c6e1-ee9ad2338873"
      },
      "execution_count": null,
      "outputs": [
        {
          "output_type": "execute_result",
          "data": {
            "text/plain": [
              "True"
            ]
          },
          "metadata": {},
          "execution_count": 64
        }
      ]
    },
    {
      "cell_type": "code",
      "source": [
        "strtext.endswith(\"d!\")"
      ],
      "metadata": {
        "colab": {
          "base_uri": "https://localhost:8080/"
        },
        "id": "DHa3CjqvtgPe",
        "outputId": "2b843244-c043-4acd-c5d3-24003a412783"
      },
      "execution_count": null,
      "outputs": [
        {
          "output_type": "execute_result",
          "data": {
            "text/plain": [
              "True"
            ]
          },
          "metadata": {},
          "execution_count": 66
        }
      ]
    },
    {
      "cell_type": "code",
      "source": [
        "''.join(['My','name','is','Simon'])"
      ],
      "metadata": {
        "colab": {
          "base_uri": "https://localhost:8080/",
          "height": 35
        },
        "id": "9IwsQiNQxxfV",
        "outputId": "ba1d5924-b7bf-4815-d16a-d7030432e08f"
      },
      "execution_count": null,
      "outputs": [
        {
          "output_type": "execute_result",
          "data": {
            "text/plain": [
              "'MynameisSimon'"
            ],
            "application/vnd.google.colaboratory.intrinsic+json": {
              "type": "string"
            }
          },
          "metadata": {},
          "execution_count": 68
        }
      ]
    },
    {
      "cell_type": "code",
      "source": [
        "#join Method joins a list to string\n",
        "\n",
        "l1 = [\"India\",\"US\",\"Srilanka\",\"Malaysia\",\"Singapore\"]\n",
        "print(\"|\".join(l1))\n",
        "print(\" \".join(l1))\n",
        "\n"
      ],
      "metadata": {
        "colab": {
          "base_uri": "https://localhost:8080/"
        },
        "id": "SazK_W2X4UnE",
        "outputId": "e4b135ed-3e54-4178-ca32-8e42edebee4c"
      },
      "execution_count": null,
      "outputs": [
        {
          "output_type": "stream",
          "name": "stdout",
          "text": [
            "India|US|Srilanka|Malaysia|Singapore\n",
            "India US Srilanka Malaysia Singapore\n"
          ]
        }
      ]
    },
    {
      "cell_type": "code",
      "source": [
        "#split method splits a string to list\n",
        "'My name is Simon'.split(' ')"
      ],
      "metadata": {
        "colab": {
          "base_uri": "https://localhost:8080/"
        },
        "id": "Bh-yMEwi4zKa",
        "outputId": "a9267d07-ff3e-486d-871a-651772f9f89a"
      },
      "execution_count": null,
      "outputs": [
        {
          "output_type": "execute_result",
          "data": {
            "text/plain": [
              "['My', 'name', 'is', 'Simon']"
            ]
          },
          "metadata": {},
          "execution_count": 75
        }
      ]
    },
    {
      "cell_type": "code",
      "source": [
        "z = 2 + 3j\n",
        "type(z) is complex"
      ],
      "metadata": {
        "colab": {
          "base_uri": "https://localhost:8080/"
        },
        "id": "0DVCmcEg6mTk",
        "outputId": "27dbe0ee-69dd-44c0-ae68-5b702c909a14"
      },
      "execution_count": null,
      "outputs": [
        {
          "output_type": "execute_result",
          "data": {
            "text/plain": [
              "True"
            ]
          },
          "metadata": {},
          "execution_count": 77
        }
      ]
    },
    {
      "cell_type": "code",
      "source": [
        "'Hello'.rjust(10)"
      ],
      "metadata": {
        "colab": {
          "base_uri": "https://localhost:8080/",
          "height": 35
        },
        "id": "Ushgn3Cj7xYd",
        "outputId": "aa756323-949b-4c5c-f686-e34ebabf40aa"
      },
      "execution_count": null,
      "outputs": [
        {
          "output_type": "execute_result",
          "data": {
            "text/plain": [
              "'     Hello'"
            ],
            "application/vnd.google.colaboratory.intrinsic+json": {
              "type": "string"
            }
          },
          "metadata": {},
          "execution_count": 79
        }
      ]
    },
    {
      "cell_type": "code",
      "source": [
        "'Hello'.rjust(10,'*')"
      ],
      "metadata": {
        "colab": {
          "base_uri": "https://localhost:8080/",
          "height": 35
        },
        "id": "7ZS-rz3O8H_9",
        "outputId": "20958f7b-ffec-4e0d-e889-77b99ef00d51"
      },
      "execution_count": null,
      "outputs": [
        {
          "output_type": "execute_result",
          "data": {
            "text/plain": [
              "'*****Hello'"
            ],
            "application/vnd.google.colaboratory.intrinsic+json": {
              "type": "string"
            }
          },
          "metadata": {},
          "execution_count": 82
        }
      ]
    },
    {
      "cell_type": "code",
      "source": [
        "'Hello'.ljust(10)"
      ],
      "metadata": {
        "colab": {
          "base_uri": "https://localhost:8080/",
          "height": 35
        },
        "id": "pY2_xW7r79kO",
        "outputId": "51038996-ac8c-4945-d9cb-70cee282dcd3"
      },
      "execution_count": null,
      "outputs": [
        {
          "output_type": "execute_result",
          "data": {
            "text/plain": [
              "'Hello     '"
            ],
            "application/vnd.google.colaboratory.intrinsic+json": {
              "type": "string"
            }
          },
          "metadata": {},
          "execution_count": 80
        }
      ]
    },
    {
      "cell_type": "code",
      "source": [
        "'Hello'.ljust(10,'&')"
      ],
      "metadata": {
        "colab": {
          "base_uri": "https://localhost:8080/",
          "height": 35
        },
        "id": "SnN_4Drs8OTe",
        "outputId": "09eb99b4-a9c9-4b94-928c-02d45da6ea7c"
      },
      "execution_count": null,
      "outputs": [
        {
          "output_type": "execute_result",
          "data": {
            "text/plain": [
              "'Hello&&&&&'"
            ],
            "application/vnd.google.colaboratory.intrinsic+json": {
              "type": "string"
            }
          },
          "metadata": {},
          "execution_count": 83
        }
      ]
    },
    {
      "cell_type": "code",
      "source": [
        "'Hello'.center(10)"
      ],
      "metadata": {
        "colab": {
          "base_uri": "https://localhost:8080/",
          "height": 35
        },
        "id": "5k2znlrT8SHe",
        "outputId": "eb0d73a8-1fb3-4070-f237-3460742a4456"
      },
      "execution_count": null,
      "outputs": [
        {
          "output_type": "execute_result",
          "data": {
            "text/plain": [
              "'  Hello   '"
            ],
            "application/vnd.google.colaboratory.intrinsic+json": {
              "type": "string"
            }
          },
          "metadata": {},
          "execution_count": 84
        }
      ]
    },
    {
      "cell_type": "code",
      "source": [
        "'Hello'.center(10,'%')"
      ],
      "metadata": {
        "colab": {
          "base_uri": "https://localhost:8080/",
          "height": 35
        },
        "id": "Tv8cWbq08BJo",
        "outputId": "e48e13c5-e1bf-45a9-aeed-e49f75d1a619"
      },
      "execution_count": null,
      "outputs": [
        {
          "output_type": "execute_result",
          "data": {
            "text/plain": [
              "'%%Hello%%%'"
            ],
            "application/vnd.google.colaboratory.intrinsic+json": {
              "type": "string"
            }
          },
          "metadata": {},
          "execution_count": 85
        }
      ]
    },
    {
      "cell_type": "code",
      "source": [
        "strMsg =' Hello World '\n",
        "strMsg.strip()"
      ],
      "metadata": {
        "colab": {
          "base_uri": "https://localhost:8080/",
          "height": 35
        },
        "id": "YY6GrseM8cvc",
        "outputId": "8392f552-66fe-4e23-c11e-a0e798a3d725"
      },
      "execution_count": null,
      "outputs": [
        {
          "output_type": "execute_result",
          "data": {
            "text/plain": [
              "'Hello World'"
            ],
            "application/vnd.google.colaboratory.intrinsic+json": {
              "type": "string"
            }
          },
          "metadata": {},
          "execution_count": 86
        }
      ]
    },
    {
      "cell_type": "code",
      "source": [
        "strMsg = 'Hello World '\n",
        "strMsg.lstrip()"
      ],
      "metadata": {
        "colab": {
          "base_uri": "https://localhost:8080/",
          "height": 35
        },
        "id": "-tQk6Z7JPd8P",
        "outputId": "f9cb71f1-e865-4895-e487-06686f855c0e"
      },
      "execution_count": null,
      "outputs": [
        {
          "output_type": "execute_result",
          "data": {
            "text/plain": [
              "'Hello World '"
            ],
            "application/vnd.google.colaboratory.intrinsic+json": {
              "type": "string"
            }
          },
          "metadata": {},
          "execution_count": 87
        }
      ]
    },
    {
      "cell_type": "code",
      "source": [
        "sentence='one sheep two sheep three sheep four'\n",
        "sentence.count('sheep',7)"
      ],
      "metadata": {
        "colab": {
          "base_uri": "https://localhost:8080/"
        },
        "id": "xo3Y7UOuRUmC",
        "outputId": "4da406b4-64a3-464f-fc03-3c35b5f0995c"
      },
      "execution_count": null,
      "outputs": [
        {
          "output_type": "execute_result",
          "data": {
            "text/plain": [
              "2"
            ]
          },
          "metadata": {},
          "execution_count": 90
        }
      ]
    },
    {
      "cell_type": "code",
      "source": [
        "text = \"Hello, world!\"\n",
        "text.replace('world','Planet')"
      ],
      "metadata": {
        "colab": {
          "base_uri": "https://localhost:8080/",
          "height": 35
        },
        "id": "HW5T4cdcR3NF",
        "outputId": "653393f0-52f1-4327-fa83-09ee73c061bd"
      },
      "execution_count": null,
      "outputs": [
        {
          "output_type": "execute_result",
          "data": {
            "text/plain": [
              "'Hello, Planet!'"
            ],
            "application/vnd.google.colaboratory.intrinsic+json": {
              "type": "string"
            }
          },
          "metadata": {},
          "execution_count": 91
        }
      ]
    },
    {
      "cell_type": "code",
      "source": [
        "fruits = \"apple, banana, cherry, apple\"\n",
        "fruits.replace(\"apple\",\"orange\",1)"
      ],
      "metadata": {
        "colab": {
          "base_uri": "https://localhost:8080/",
          "height": 35
        },
        "id": "tkKoz5uqR_Y8",
        "outputId": "87eb6a14-c167-46e7-dfff-74a9c9a42dcc"
      },
      "execution_count": null,
      "outputs": [
        {
          "output_type": "execute_result",
          "data": {
            "text/plain": [
              "'orange, banana, cherry, apple'"
            ],
            "application/vnd.google.colaboratory.intrinsic+json": {
              "type": "string"
            }
          },
          "metadata": {},
          "execution_count": 92
        }
      ]
    },
    {
      "cell_type": "code",
      "source": [
        "sentence.count('o',)"
      ],
      "metadata": {
        "colab": {
          "base_uri": "https://localhost:8080/"
        },
        "id": "wQNFhLywRdst",
        "outputId": "6c78ab05-0cef-4145-ee4a-d224befe7b0a"
      },
      "execution_count": null,
      "outputs": [
        {
          "output_type": "execute_result",
          "data": {
            "text/plain": [
              "3"
            ]
          },
          "metadata": {},
          "execution_count": 89
        }
      ]
    },
    {
      "cell_type": "markdown",
      "source": [
        "# **PYTHON PRINT STATEMENT**"
      ],
      "metadata": {
        "id": "STOYQ2ww4rqS"
      }
    },
    {
      "cell_type": "code",
      "source": [
        "a = 10\n",
        "b = 20\n",
        "print(a)\n",
        "print(b)"
      ],
      "metadata": {
        "colab": {
          "base_uri": "https://localhost:8080/"
        },
        "id": "A5wtz1tl4yHo",
        "outputId": "005bb6f7-cb5d-45b1-a0d5-63bd4966e98d"
      },
      "execution_count": null,
      "outputs": [
        {
          "output_type": "stream",
          "name": "stdout",
          "text": [
            "10\n",
            "20\n"
          ]
        }
      ]
    },
    {
      "cell_type": "code",
      "source": [
        "print(10)\n",
        "print(20.5)\n",
        "print('python')\n",
        "print(a,b,'Python Tutorial')"
      ],
      "metadata": {
        "colab": {
          "base_uri": "https://localhost:8080/"
        },
        "id": "uKln_b-b48h-",
        "outputId": "756008fa-95f5-408b-8d45-3bcacadd214c"
      },
      "execution_count": null,
      "outputs": [
        {
          "output_type": "stream",
          "name": "stdout",
          "text": [
            "10\n",
            "20.5\n",
            "python\n",
            "10 20 Python Tutorial\n"
          ]
        }
      ]
    },
    {
      "cell_type": "code",
      "source": [
        "num1,num2 = 20,50\n",
        "add = num1 + num2\n",
        "print(add)"
      ],
      "metadata": {
        "colab": {
          "base_uri": "https://localhost:8080/"
        },
        "id": "Y0ZvkTB75Ilh",
        "outputId": "2fab9a50-79d8-4ed3-c024-7e34608418bc"
      },
      "execution_count": null,
      "outputs": [
        {
          "output_type": "stream",
          "name": "stdout",
          "text": [
            "70\n"
          ]
        }
      ]
    },
    {
      "cell_type": "markdown",
      "source": [
        "# **Print Result with String**"
      ],
      "metadata": {
        "id": "ZNvlWveV5Sz_"
      }
    },
    {
      "cell_type": "code",
      "source": [
        "num1,num2 = 20,50\n",
        "sum = num1 + num2\n",
        "print('Sum of num1:-',num1,'and num2:-',num2,\"is\",sum)"
      ],
      "metadata": {
        "colab": {
          "base_uri": "https://localhost:8080/"
        },
        "id": "r7EItSrP5fCV",
        "outputId": "74cad013-d7c0-4bbb-a02a-cdfce1185907"
      },
      "execution_count": null,
      "outputs": [
        {
          "output_type": "stream",
          "name": "stdout",
          "text": [
            "Sum of num1:- 20 and num2:- 50 is 70\n"
          ]
        }
      ]
    },
    {
      "cell_type": "code",
      "source": [
        "name='Python'\n",
        "age=20\n",
        "city='hyderabad'\n",
        "#hellow my name is python and i am 10 year old from hydrabad\n",
        "print(\"Hello my name is\",name,\"and iam\",age,\"year old from\",city)"
      ],
      "metadata": {
        "colab": {
          "base_uri": "https://localhost:8080/"
        },
        "id": "HuzN3fSY6Acf",
        "outputId": "f014cfcc-f6c5-4833-b375-f9023c0e9523"
      },
      "execution_count": null,
      "outputs": [
        {
          "output_type": "stream",
          "name": "stdout",
          "text": [
            "Hello my name is Python and iam 20 year old from hyderabad\n"
          ]
        }
      ]
    },
    {
      "cell_type": "code",
      "source": [
        "num1,num2 = 20,50\n",
        "sum = num1 + num2\n",
        "print('Sum of num1:-{} and num2:-{} is {}'.format(num1,num2,sum))"
      ],
      "metadata": {
        "colab": {
          "base_uri": "https://localhost:8080/"
        },
        "id": "cRqc0pQD6frh",
        "outputId": "26a9901d-98bd-4549-81fc-e4cbc5f1294a"
      },
      "execution_count": null,
      "outputs": [
        {
          "output_type": "stream",
          "name": "stdout",
          "text": [
            "Sum of num1:-20 and num2:-50 is 70\n"
          ]
        }
      ]
    },
    {
      "cell_type": "code",
      "source": [
        "name='Manikantan'\n",
        "age=28\n",
        "city='Chennai'\n",
        "#hellow my name is python and i am 10 year old from hydrabad\n",
        "print('Hello my name is {} and I am {} years old and Iam from {}'.format(name,age,city))"
      ],
      "metadata": {
        "colab": {
          "base_uri": "https://localhost:8080/"
        },
        "id": "sGH_di9-63vH",
        "outputId": "c371eb14-8a7a-470f-fb10-bdfcd932f0d5"
      },
      "execution_count": null,
      "outputs": [
        {
          "output_type": "stream",
          "name": "stdout",
          "text": [
            "Hello my name is Manikantan and I am 28 years old and Iam from Chennai\n"
          ]
        }
      ]
    },
    {
      "cell_type": "code",
      "source": [
        "'''\n",
        "print the below statement\n",
        "# The avrage of num1,num2,num3 is = avg\n",
        "'''\n",
        "num1,num2,num3=100,25,333\n",
        "avg = round((num1+num2+num3)/3,2)\n",
        "print(\"The average of {},{},{} is {}\".format(num1,num2,num3,avg))"
      ],
      "metadata": {
        "colab": {
          "base_uri": "https://localhost:8080/"
        },
        "id": "szW53qWe7R0e",
        "outputId": "b7e22293-4c6b-4f5e-c8f1-fd2a835ef468"
      },
      "execution_count": null,
      "outputs": [
        {
          "output_type": "stream",
          "name": "stdout",
          "text": [
            "The average of 100,25,333 is 152.67\n"
          ]
        }
      ]
    },
    {
      "cell_type": "code",
      "source": [
        "pi = 3.147899\n",
        "round(pi,2)"
      ],
      "metadata": {
        "colab": {
          "base_uri": "https://localhost:8080/"
        },
        "id": "0osfBjPp8bMR",
        "outputId": "31c803f5-aa96-40d6-851f-e6d087b8270a"
      },
      "execution_count": null,
      "outputs": [
        {
          "output_type": "execute_result",
          "data": {
            "text/plain": [
              "3.15"
            ]
          },
          "metadata": {},
          "execution_count": 30
        }
      ]
    },
    {
      "cell_type": "markdown",
      "source": [
        "# **More short format meythod(f string method)**"
      ],
      "metadata": {
        "id": "9y2TZbzV83HI"
      }
    },
    {
      "cell_type": "code",
      "source": [
        "num1,num2 = 70,140\n",
        "sum = num1 + num2\n",
        "print(f'The sum of 2 variables {num1} and {num2} is {sum}')\n"
      ],
      "metadata": {
        "colab": {
          "base_uri": "https://localhost:8080/"
        },
        "id": "rd2IOlpm85d8",
        "outputId": "1420a6c5-11fd-4a84-f30a-8ac8886e740d"
      },
      "execution_count": null,
      "outputs": [
        {
          "output_type": "stream",
          "name": "stdout",
          "text": [
            "The sum of 2 variables 70 and 140 is 210\n"
          ]
        }
      ]
    },
    {
      "cell_type": "code",
      "source": [
        "#hellow my name is python and i am 10 year old from hydrabad\n",
        "name,age,city = 'Mani Bhai','28','Dubai'\n",
        "print(f'Hello my name is {name} I am {age}yrs old and I am from {city}.')"
      ],
      "metadata": {
        "colab": {
          "base_uri": "https://localhost:8080/"
        },
        "id": "81etInQa9Lo-",
        "outputId": "5959b259-3194-4c2c-fcd5-cddb7a960b83"
      },
      "execution_count": null,
      "outputs": [
        {
          "output_type": "stream",
          "name": "stdout",
          "text": [
            "Hello my name is Mani Bhai I am 28yrs old and I am from Dubai.\n"
          ]
        }
      ]
    },
    {
      "cell_type": "code",
      "source": [
        "# The avrage of num1,num2,num3 is = avg\n",
        "num1,num2,num3 = 8,9,10\n",
        "print(f\"The average of {num1},{num2},{num3} is {round((num1 +num2 + num3)/2,2)}\")"
      ],
      "metadata": {
        "colab": {
          "base_uri": "https://localhost:8080/"
        },
        "id": "oMVFTZLk--4g",
        "outputId": "0b28d7fe-559d-44b9-c90b-cc85430bf0c4"
      },
      "execution_count": null,
      "outputs": [
        {
          "output_type": "stream",
          "name": "stdout",
          "text": [
            "The average of 8,9,10 is 13.5\n"
          ]
        }
      ]
    },
    {
      "cell_type": "code",
      "source": [
        "# lete combine all\n",
        "num1,num2,num3 = 8,9,10\n",
        "avg = round((num1 + num2 + num3)/3,2)\n",
        "print('average of num1-',num1,'num2-',num2,'and num3-',num3,'is',avg)\n",
        "print('average of num1- {},num2- {} and num3- {} is {}'.format(num1,num2,num3,avg))\n",
        "print(f'average of num1- {num1},num2- {num2} and num3- {num3} is {avg}')\n",
        "\n"
      ],
      "metadata": {
        "colab": {
          "base_uri": "https://localhost:8080/"
        },
        "id": "kgKSl5D1_raD",
        "outputId": "c6afecb5-efd3-48e9-b9b6-d677879baf48"
      },
      "execution_count": null,
      "outputs": [
        {
          "output_type": "stream",
          "name": "stdout",
          "text": [
            "average of num1- 8 num2- 9 and num3- 10 is 9.0\n",
            "average of num1- 8,num2- 9 and num3- 10 is 9.0\n",
            "average of num1- 8,num2- 9 and num3- 10 is 9.0\n"
          ]
        }
      ]
    },
    {
      "cell_type": "markdown",
      "source": [
        "# **End Statement**"
      ],
      "metadata": {
        "id": "OVGdgfsxBMw2"
      }
    },
    {
      "cell_type": "code",
      "source": [
        "# i want print like:- hello good morning using end statement\n",
        "print('Hello,')\n",
        "print('Good Morning!!',end = '')\n",
        "print('How are you?')"
      ],
      "metadata": {
        "colab": {
          "base_uri": "https://localhost:8080/"
        },
        "id": "hRFQTSH4BSRx",
        "outputId": "f301420d-40c9-49ac-f6ad-c036c083901f"
      },
      "execution_count": null,
      "outputs": [
        {
          "output_type": "stream",
          "name": "stdout",
          "text": [
            "Hello,\n",
            "Good Morning!!How are you?\n"
          ]
        }
      ]
    },
    {
      "cell_type": "code",
      "source": [
        "print('Hello','Hi','How are you?',sep='-->')"
      ],
      "metadata": {
        "colab": {
          "base_uri": "https://localhost:8080/"
        },
        "id": "gwOdGnoKB01e",
        "outputId": "85446b09-8adb-4914-dbb9-e097cf042b6e"
      },
      "execution_count": null,
      "outputs": [
        {
          "output_type": "stream",
          "name": "stdout",
          "text": [
            "Hello-->Hi-->How are you?\n"
          ]
        }
      ]
    },
    {
      "cell_type": "code",
      "source": [
        "print('Hello','Hi','How are you?',sep='&')"
      ],
      "metadata": {
        "colab": {
          "base_uri": "https://localhost:8080/"
        },
        "id": "VuNK72swCDw5",
        "outputId": "53efb686-1c75-44a9-b5c4-8d0c2edb9577"
      },
      "execution_count": null,
      "outputs": [
        {
          "output_type": "stream",
          "name": "stdout",
          "text": [
            "Hello&Hi&How are you?\n"
          ]
        }
      ]
    },
    {
      "cell_type": "code",
      "source": [
        "print('Hello','Hi','How are you?',sep='@')"
      ],
      "metadata": {
        "colab": {
          "base_uri": "https://localhost:8080/"
        },
        "id": "p_DKY00gCL1n",
        "outputId": "fa41c4d5-0007-4434-e062-b87ff06f40b3"
      },
      "execution_count": null,
      "outputs": [
        {
          "output_type": "stream",
          "name": "stdout",
          "text": [
            "Hello@Hi@How are you?\n"
          ]
        }
      ]
    },
    {
      "cell_type": "code",
      "source": [
        "print('hello','hai','how are you',sep=' ')"
      ],
      "metadata": {
        "colab": {
          "base_uri": "https://localhost:8080/"
        },
        "id": "-UIcKrX-CQUy",
        "outputId": "66a8f24a-bbb8-46f6-a2ae-2122e06d946a"
      },
      "execution_count": null,
      "outputs": [
        {
          "output_type": "stream",
          "name": "stdout",
          "text": [
            "hello hai how are you\n"
          ]
        }
      ]
    },
    {
      "cell_type": "code",
      "source": [
        "print(3,'.')"
      ],
      "metadata": {
        "colab": {
          "base_uri": "https://localhost:8080/"
        },
        "id": "m0S1zsCCCdXN",
        "outputId": "853d9662-ddbe-4ead-f9da-20984a390f38"
      },
      "execution_count": null,
      "outputs": [
        {
          "output_type": "stream",
          "name": "stdout",
          "text": [
            "3 .\n"
          ]
        }
      ]
    },
    {
      "cell_type": "code",
      "source": [
        "print(3,'.',sep='') #removes the blank space"
      ],
      "metadata": {
        "colab": {
          "base_uri": "https://localhost:8080/"
        },
        "id": "k6EhtDQcCgQm",
        "outputId": "bf596ea0-3e6b-4172-9304-5efe41013a5e"
      },
      "execution_count": null,
      "outputs": [
        {
          "output_type": "stream",
          "name": "stdout",
          "text": [
            "3.\n"
          ]
        }
      ]
    },
    {
      "cell_type": "code",
      "source": [
        "comma = ','\n",
        "print(f'1{comma}2{comma}',end='')\n",
        "print(3,'.',sep='')"
      ],
      "metadata": {
        "colab": {
          "base_uri": "https://localhost:8080/"
        },
        "id": "NJ8u1_vVCkcL",
        "outputId": "5bc6d0b6-10b4-4458-ce3b-8f8e691ff778"
      },
      "execution_count": null,
      "outputs": [
        {
          "output_type": "stream",
          "name": "stdout",
          "text": [
            "1,2,3.\n"
          ]
        }
      ]
    },
    {
      "cell_type": "code",
      "source": [
        "StrTest = \"hello World\"\n",
        "StrTest.capitalize()"
      ],
      "metadata": {
        "colab": {
          "base_uri": "https://localhost:8080/",
          "height": 35
        },
        "id": "__5ZxAo8i7hT",
        "outputId": "3a9cc70e-d895-4e37-c896-54b11eb1dab2"
      },
      "execution_count": null,
      "outputs": [
        {
          "output_type": "execute_result",
          "data": {
            "text/plain": [
              "'Hello world'"
            ],
            "application/vnd.google.colaboratory.intrinsic+json": {
              "type": "string"
            }
          },
          "metadata": {},
          "execution_count": 95
        }
      ]
    },
    {
      "cell_type": "code",
      "source": [
        "StrTest.swapcase()"
      ],
      "metadata": {
        "colab": {
          "base_uri": "https://localhost:8080/",
          "height": 35
        },
        "id": "dAsaXPmmjMqF",
        "outputId": "2eb8e15a-02c6-465c-c2f7-2dd6beec2bce"
      },
      "execution_count": null,
      "outputs": [
        {
          "output_type": "execute_result",
          "data": {
            "text/plain": [
              "'HELLO wORLD'"
            ],
            "application/vnd.google.colaboratory.intrinsic+json": {
              "type": "string"
            }
          },
          "metadata": {},
          "execution_count": 96
        }
      ]
    },
    {
      "cell_type": "code",
      "source": [
        "'h' in StrTest"
      ],
      "metadata": {
        "colab": {
          "base_uri": "https://localhost:8080/"
        },
        "id": "XFlXaRN9jXA9",
        "outputId": "b2cc5268-2983-4dd0-98bb-6fbf7e6d3247"
      },
      "execution_count": null,
      "outputs": [
        {
          "output_type": "execute_result",
          "data": {
            "text/plain": [
              "True"
            ]
          },
          "metadata": {},
          "execution_count": 98
        }
      ]
    },
    {
      "cell_type": "code",
      "source": [
        "StrTest * 2"
      ],
      "metadata": {
        "colab": {
          "base_uri": "https://localhost:8080/",
          "height": 35
        },
        "id": "8YM5196qjgi2",
        "outputId": "a14d3a53-d92b-4250-9793-b54d15a0e626"
      },
      "execution_count": null,
      "outputs": [
        {
          "output_type": "execute_result",
          "data": {
            "text/plain": [
              "'hello Worldhello World'"
            ],
            "application/vnd.google.colaboratory.intrinsic+json": {
              "type": "string"
            }
          },
          "metadata": {},
          "execution_count": 99
        }
      ]
    }
  ]
}