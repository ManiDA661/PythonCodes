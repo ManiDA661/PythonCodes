{
 "cells": [
  {
   "cell_type": "code",
   "execution_count": 7,
   "id": "4742448e-08e0-4686-838f-4775e9d3ed4a",
   "metadata": {},
   "outputs": [],
   "source": [
    "#import datetime\n",
    "import openpyxl,datetime\n",
    "import pandas as pd\n",
    "\n",
    "workbook = openpyxl.Workbook()\n",
    "sheet = workbook.active\n",
    "sheet.title =\"Employee\"\n",
    "\n",
    "_cellData = [\n",
    "                ['EMPID','EMPNAME','DESIGNATION','AGE','LOCATION','SALARY','EXPERIENCE'],\n",
    "                [1001,'Manikantan','Senior Data Analyst',32,'Chennai',14000,10],\n",
    "                [1002,'Shweta Anand','HR',34,'Chennai',7000,4],\n",
    "                [1003,'Devi Priya','Tester',22,'Hyderabad',4000,1],\n",
    "                [1004,'Prakash Senapati','Tutor',44,'Hyderabad',12000,9],\n",
    "                [1005,'Keerthivasan','Programmer',38,'Bengaluru',11000,8]\n",
    "            ]\n",
    "\n",
    "for row in _cellData:\n",
    "    sheet.append(row)\n",
    "\n",
    "# Returns the current local datetime with hhmmssam/pm\n",
    "_dt = datetime.datetime.now().strftime('%Y-%m-%d_%H%M%S%p')\n",
    "\n",
    "#create a folder ExportExcelData in d drive\n",
    "#define the filepath and filename (EmplpoyeeData_2024-11-08_101321AM.xlsx)\n",
    "_filepath,_filename = r\"D:\\\\ExportExcelData\\\\\",\"EmployeeData_\" + _dt + \".xlsx\"\n",
    "#print(_filepath + _filename)\n",
    "\n",
    "workbook.save(_filepath + _filename)\n",
    "\n",
    "\n",
    "    \n",
    "    \n",
    "             "
   ]
  },
  {
   "cell_type": "code",
   "execution_count": 8,
   "id": "6a16507a-0028-4795-a341-239a19534f70",
   "metadata": {},
   "outputs": [
    {
     "data": {
      "text/plain": [
       "[['EMPID',\n",
       "  'EMPNAME',\n",
       "  'DESIGNATION',\n",
       "  'AGE',\n",
       "  'LOCATION',\n",
       "  'SALARY',\n",
       "  'EXPERIENCE'],\n",
       " [1001, 'Manikantan', 'Senior Data Analyst', 32, 'Chennai', 14000, 10],\n",
       " [1002, 'Shweta Anand', 'HR', 34, 'Chennai', 7000, 4],\n",
       " [1003, 'Devi Priya', 'Tester', 22, 'Hyderabad', 4000, 1],\n",
       " [1004, 'Prakash Senapati', 'Tutor', 44, 'Hyderabad', 12000, 9],\n",
       " [1005, 'Keerthivasan', 'Programmer', 38, 'Bengaluru', 11000, 8]]"
      ]
     },
     "execution_count": 8,
     "metadata": {},
     "output_type": "execute_result"
    }
   ],
   "source": [
    "_cellData"
   ]
  },
  {
   "cell_type": "code",
   "execution_count": 106,
   "id": "ec822308-c115-416f-92c8-6c40f8e9bacd",
   "metadata": {},
   "outputs": [
    {
     "data": {
      "text/plain": [
       "'C:\\\\Users\\\\shara'"
      ]
     },
     "execution_count": 106,
     "metadata": {},
     "output_type": "execute_result"
    }
   ],
   "source": [
    "import os\n",
    "os.getcwd()"
   ]
  },
  {
   "cell_type": "code",
   "execution_count": 9,
   "id": "69ac76b4-1a91-456e-b93f-17c3db34e02e",
   "metadata": {},
   "outputs": [
    {
     "name": "stdout",
     "output_type": "stream",
     "text": [
      "Today date is:  2024-11-08_17:10:14PM\n"
     ]
    }
   ],
   "source": [
    "# Import date class from datetime module\n",
    "import datetime\n",
    "\n",
    "# Returns the current local date\n",
    "dt = datetime.datetime.now().strftime('%Y-%m-%d_%H:%M:%S%p')\n",
    "print(\"Today date is: \", dt)"
   ]
  },
  {
   "cell_type": "code",
   "execution_count": 10,
   "id": "3e2e9140-406e-42e9-bb1d-0c588ac46ff0",
   "metadata": {},
   "outputs": [
    {
     "data": {
      "text/html": [
       "<div>\n",
       "<style scoped>\n",
       "    .dataframe tbody tr th:only-of-type {\n",
       "        vertical-align: middle;\n",
       "    }\n",
       "\n",
       "    .dataframe tbody tr th {\n",
       "        vertical-align: top;\n",
       "    }\n",
       "\n",
       "    .dataframe thead th {\n",
       "        text-align: right;\n",
       "    }\n",
       "</style>\n",
       "<table border=\"1\" class=\"dataframe\">\n",
       "  <thead>\n",
       "    <tr style=\"text-align: right;\">\n",
       "      <th></th>\n",
       "      <th>EMPID</th>\n",
       "      <th>EMPNAME</th>\n",
       "      <th>DESIGNATION</th>\n",
       "      <th>AGE</th>\n",
       "      <th>LOCATION</th>\n",
       "      <th>SALARY</th>\n",
       "      <th>EXPERIENCE</th>\n",
       "    </tr>\n",
       "  </thead>\n",
       "  <tbody>\n",
       "    <tr>\n",
       "      <th>0</th>\n",
       "      <td>1001</td>\n",
       "      <td>Manikantan</td>\n",
       "      <td>Senior Data Analyst</td>\n",
       "      <td>32</td>\n",
       "      <td>Chennai</td>\n",
       "      <td>14000</td>\n",
       "      <td>10</td>\n",
       "    </tr>\n",
       "    <tr>\n",
       "      <th>1</th>\n",
       "      <td>1002</td>\n",
       "      <td>Shweta Anand</td>\n",
       "      <td>HR</td>\n",
       "      <td>34</td>\n",
       "      <td>Chennai</td>\n",
       "      <td>7000</td>\n",
       "      <td>4</td>\n",
       "    </tr>\n",
       "    <tr>\n",
       "      <th>2</th>\n",
       "      <td>1003</td>\n",
       "      <td>Devi Priya</td>\n",
       "      <td>Tester</td>\n",
       "      <td>22</td>\n",
       "      <td>Hyderabad</td>\n",
       "      <td>4000</td>\n",
       "      <td>1</td>\n",
       "    </tr>\n",
       "    <tr>\n",
       "      <th>3</th>\n",
       "      <td>1004</td>\n",
       "      <td>Prakash Senapati</td>\n",
       "      <td>Tutor</td>\n",
       "      <td>44</td>\n",
       "      <td>Hyderabad</td>\n",
       "      <td>12000</td>\n",
       "      <td>9</td>\n",
       "    </tr>\n",
       "    <tr>\n",
       "      <th>4</th>\n",
       "      <td>1005</td>\n",
       "      <td>Keerthivasan</td>\n",
       "      <td>Programmer</td>\n",
       "      <td>38</td>\n",
       "      <td>Bengaluru</td>\n",
       "      <td>11000</td>\n",
       "      <td>8</td>\n",
       "    </tr>\n",
       "  </tbody>\n",
       "</table>\n",
       "</div>"
      ],
      "text/plain": [
       "   EMPID           EMPNAME          DESIGNATION  AGE   LOCATION  SALARY  \\\n",
       "0   1001        Manikantan  Senior Data Analyst   32    Chennai   14000   \n",
       "1   1002      Shweta Anand                   HR   34    Chennai    7000   \n",
       "2   1003        Devi Priya               Tester   22  Hyderabad    4000   \n",
       "3   1004  Prakash Senapati                Tutor   44  Hyderabad   12000   \n",
       "4   1005      Keerthivasan           Programmer   38  Bengaluru   11000   \n",
       "\n",
       "   EXPERIENCE  \n",
       "0          10  \n",
       "1           4  \n",
       "2           1  \n",
       "3           9  \n",
       "4           8  "
      ]
     },
     "execution_count": 10,
     "metadata": {},
     "output_type": "execute_result"
    }
   ],
   "source": [
    "emp = pd.read_excel(_filepath + _filename)\n",
    "emp"
   ]
  },
  {
   "cell_type": "code",
   "execution_count": 11,
   "id": "a08b3d1b-8480-4b2b-b43b-641be3f818b1",
   "metadata": {},
   "outputs": [
    {
     "data": {
      "text/plain": [
       "(5, 7)"
      ]
     },
     "execution_count": 11,
     "metadata": {},
     "output_type": "execute_result"
    }
   ],
   "source": [
    "emp.shape"
   ]
  },
  {
   "cell_type": "code",
   "execution_count": 12,
   "id": "1a3c9e54-d691-4d61-b423-51276a1e603d",
   "metadata": {},
   "outputs": [
    {
     "data": {
      "text/plain": [
       "Index(['EMPID', 'EMPNAME', 'DESIGNATION', 'AGE', 'LOCATION', 'SALARY',\n",
       "       'EXPERIENCE'],\n",
       "      dtype='object')"
      ]
     },
     "execution_count": 12,
     "metadata": {},
     "output_type": "execute_result"
    }
   ],
   "source": [
    "emp.columns"
   ]
  },
  {
   "cell_type": "code",
   "execution_count": 13,
   "id": "3e40f2af-5922-4a31-882f-2158a0031c34",
   "metadata": {},
   "outputs": [
    {
     "data": {
      "text/plain": [
       "7"
      ]
     },
     "execution_count": 13,
     "metadata": {},
     "output_type": "execute_result"
    }
   ],
   "source": [
    "len(emp.columns)"
   ]
  },
  {
   "cell_type": "code",
   "execution_count": 14,
   "id": "a80859c7-8459-4c09-bc5e-4a78dc2220bc",
   "metadata": {},
   "outputs": [
    {
     "data": {
      "text/plain": [
       "5"
      ]
     },
     "execution_count": 14,
     "metadata": {},
     "output_type": "execute_result"
    }
   ],
   "source": [
    "len(emp)"
   ]
  },
  {
   "cell_type": "code",
   "execution_count": 15,
   "id": "2803a869-0bab-49ee-b17b-f56f72a408f4",
   "metadata": {},
   "outputs": [
    {
     "data": {
      "text/html": [
       "<div>\n",
       "<style scoped>\n",
       "    .dataframe tbody tr th:only-of-type {\n",
       "        vertical-align: middle;\n",
       "    }\n",
       "\n",
       "    .dataframe tbody tr th {\n",
       "        vertical-align: top;\n",
       "    }\n",
       "\n",
       "    .dataframe thead th {\n",
       "        text-align: right;\n",
       "    }\n",
       "</style>\n",
       "<table border=\"1\" class=\"dataframe\">\n",
       "  <thead>\n",
       "    <tr style=\"text-align: right;\">\n",
       "      <th></th>\n",
       "      <th>EMPID</th>\n",
       "      <th>EMPNAME</th>\n",
       "      <th>DESIGNATION</th>\n",
       "      <th>AGE</th>\n",
       "      <th>LOCATION</th>\n",
       "      <th>SALARY</th>\n",
       "      <th>EXPERIENCE</th>\n",
       "    </tr>\n",
       "  </thead>\n",
       "  <tbody>\n",
       "    <tr>\n",
       "      <th>0</th>\n",
       "      <td>1001</td>\n",
       "      <td>Manikantan</td>\n",
       "      <td>Senior Data Analyst</td>\n",
       "      <td>32</td>\n",
       "      <td>Chennai</td>\n",
       "      <td>14000</td>\n",
       "      <td>10</td>\n",
       "    </tr>\n",
       "    <tr>\n",
       "      <th>1</th>\n",
       "      <td>1002</td>\n",
       "      <td>Shweta Anand</td>\n",
       "      <td>HR</td>\n",
       "      <td>34</td>\n",
       "      <td>Chennai</td>\n",
       "      <td>7000</td>\n",
       "      <td>4</td>\n",
       "    </tr>\n",
       "    <tr>\n",
       "      <th>2</th>\n",
       "      <td>1003</td>\n",
       "      <td>Devi Priya</td>\n",
       "      <td>Tester</td>\n",
       "      <td>22</td>\n",
       "      <td>Hyderabad</td>\n",
       "      <td>4000</td>\n",
       "      <td>1</td>\n",
       "    </tr>\n",
       "    <tr>\n",
       "      <th>3</th>\n",
       "      <td>1004</td>\n",
       "      <td>Prakash Senapati</td>\n",
       "      <td>Tutor</td>\n",
       "      <td>44</td>\n",
       "      <td>Hyderabad</td>\n",
       "      <td>12000</td>\n",
       "      <td>9</td>\n",
       "    </tr>\n",
       "    <tr>\n",
       "      <th>4</th>\n",
       "      <td>1005</td>\n",
       "      <td>Keerthivasan</td>\n",
       "      <td>Programmer</td>\n",
       "      <td>38</td>\n",
       "      <td>Bengaluru</td>\n",
       "      <td>11000</td>\n",
       "      <td>8</td>\n",
       "    </tr>\n",
       "  </tbody>\n",
       "</table>\n",
       "</div>"
      ],
      "text/plain": [
       "   EMPID           EMPNAME          DESIGNATION  AGE   LOCATION  SALARY  \\\n",
       "0   1001        Manikantan  Senior Data Analyst   32    Chennai   14000   \n",
       "1   1002      Shweta Anand                   HR   34    Chennai    7000   \n",
       "2   1003        Devi Priya               Tester   22  Hyderabad    4000   \n",
       "3   1004  Prakash Senapati                Tutor   44  Hyderabad   12000   \n",
       "4   1005      Keerthivasan           Programmer   38  Bengaluru   11000   \n",
       "\n",
       "   EXPERIENCE  \n",
       "0          10  \n",
       "1           4  \n",
       "2           1  \n",
       "3           9  \n",
       "4           8  "
      ]
     },
     "execution_count": 15,
     "metadata": {},
     "output_type": "execute_result"
    }
   ],
   "source": [
    "emp"
   ]
  },
  {
   "cell_type": "code",
   "execution_count": 16,
   "id": "bc7445d4-54ea-423b-8be7-89f67ce77567",
   "metadata": {},
   "outputs": [
    {
     "data": {
      "text/html": [
       "<div>\n",
       "<style scoped>\n",
       "    .dataframe tbody tr th:only-of-type {\n",
       "        vertical-align: middle;\n",
       "    }\n",
       "\n",
       "    .dataframe tbody tr th {\n",
       "        vertical-align: top;\n",
       "    }\n",
       "\n",
       "    .dataframe thead th {\n",
       "        text-align: right;\n",
       "    }\n",
       "</style>\n",
       "<table border=\"1\" class=\"dataframe\">\n",
       "  <thead>\n",
       "    <tr style=\"text-align: right;\">\n",
       "      <th></th>\n",
       "      <th>SALARY</th>\n",
       "      <th>EXPERIENCE</th>\n",
       "    </tr>\n",
       "  </thead>\n",
       "  <tbody>\n",
       "    <tr>\n",
       "      <th>0</th>\n",
       "      <td>14000</td>\n",
       "      <td>10</td>\n",
       "    </tr>\n",
       "    <tr>\n",
       "      <th>1</th>\n",
       "      <td>7000</td>\n",
       "      <td>4</td>\n",
       "    </tr>\n",
       "    <tr>\n",
       "      <th>2</th>\n",
       "      <td>4000</td>\n",
       "      <td>1</td>\n",
       "    </tr>\n",
       "    <tr>\n",
       "      <th>3</th>\n",
       "      <td>12000</td>\n",
       "      <td>9</td>\n",
       "    </tr>\n",
       "    <tr>\n",
       "      <th>4</th>\n",
       "      <td>11000</td>\n",
       "      <td>8</td>\n",
       "    </tr>\n",
       "  </tbody>\n",
       "</table>\n",
       "</div>"
      ],
      "text/plain": [
       "   SALARY  EXPERIENCE\n",
       "0   14000          10\n",
       "1    7000           4\n",
       "2    4000           1\n",
       "3   12000           9\n",
       "4   11000           8"
      ]
     },
     "execution_count": 16,
     "metadata": {},
     "output_type": "execute_result"
    }
   ],
   "source": [
    "emp[['SALARY','EXPERIENCE']]"
   ]
  },
  {
   "cell_type": "code",
   "execution_count": 116,
   "id": "2cf0b932-4fb2-4459-88c0-3a6983f92d28",
   "metadata": {},
   "outputs": [],
   "source": [
    "import numpy as np # ND ARRAY\n",
    "import matplotlib.pyplot as plt #VISUALIZATION\n",
    "import seaborn as sns #STATISTIC VISUALIZATION"
   ]
  },
  {
   "cell_type": "code",
   "execution_count": 117,
   "id": "cf2b49f9-9912-4542-b0e6-e4037b6a8a04",
   "metadata": {},
   "outputs": [
    {
     "data": {
      "image/png": "[encoded data removed]",
      "text/plain": [
       "<Figure size 500x500 with 1 Axes>"
      ]
     },
     "metadata": {},
     "output_type": "display_data"
    }
   ],
   "source": [
    "vis1 = sns.displot(emp['SALARY'])"
   ]
  },
  {
   "cell_type": "code",
   "execution_count": 17,
   "id": "17b6aa5c-7c70-4bc7-8c33-de8f0d2455e5",
   "metadata": {},
   "outputs": [
    {
     "ename": "NameError",
     "evalue": "name 'sns' is not defined",
     "output_type": "error",
     "traceback": [
      "\u001b[1;31m---------------------------------------------------------------------------\u001b[0m",
      "\u001b[1;31mNameError\u001b[0m                                 Traceback (most recent call last)",
      "Cell \u001b[1;32mIn[17], line 1\u001b[0m\n\u001b[1;32m----> 1\u001b[0m vis2 \u001b[38;5;241m=\u001b[39m sns\u001b[38;5;241m.\u001b[39mdistplot(emp[\u001b[38;5;124m'\u001b[39m\u001b[38;5;124mSALARY\u001b[39m\u001b[38;5;124m'\u001b[39m])\n",
      "\u001b[1;31mNameError\u001b[0m: name 'sns' is not defined"
     ]
    }
   ],
   "source": [
    "vis2 = sns.distplot(emp['SALARY'])"
   ]
  },
  {
   "cell_type": "code",
   "execution_count": 119,
   "id": "6a2d192a-13da-4888-81a9-fad5aa9d8b59",
   "metadata": {},
   "outputs": [
    {
     "data": {
      "image/png": "[encoded data removed]",
      "text/plain": [
       "<Figure size 640x480 with 1 Axes>"
      ]
     },
     "metadata": {},
     "output_type": "display_data"
    }
   ],
   "source": [
    "vis3 = plt.hist(emp['SALARY'])"
   ]
  },
  {
   "cell_type": "code",
   "execution_count": 120,
   "id": "2b619e30-85de-4cb1-8581-94533de240cf",
   "metadata": {},
   "outputs": [
    {
     "data": {
      "text/html": [
       "<div>\n",
       "<style scoped>\n",
       "    .dataframe tbody tr th:only-of-type {\n",
       "        vertical-align: middle;\n",
       "    }\n",
       "\n",
       "    .dataframe tbody tr th {\n",
       "        vertical-align: top;\n",
       "    }\n",
       "\n",
       "    .dataframe thead th {\n",
       "        text-align: right;\n",
       "    }\n",
       "</style>\n",
       "<table border=\"1\" class=\"dataframe\">\n",
       "  <thead>\n",
       "    <tr style=\"text-align: right;\">\n",
       "      <th></th>\n",
       "      <th>EMPID</th>\n",
       "      <th>EMPNAME</th>\n",
       "      <th>DESIGNATION</th>\n",
       "      <th>AGE</th>\n",
       "      <th>LOCATION</th>\n",
       "      <th>SALARY</th>\n",
       "      <th>EXPERIENCE</th>\n",
       "    </tr>\n",
       "  </thead>\n",
       "  <tbody>\n",
       "    <tr>\n",
       "      <th>0</th>\n",
       "      <td>1001</td>\n",
       "      <td>Manikantan</td>\n",
       "      <td>Senior Data Analyst</td>\n",
       "      <td>32</td>\n",
       "      <td>Chennai</td>\n",
       "      <td>14000</td>\n",
       "      <td>10</td>\n",
       "    </tr>\n",
       "    <tr>\n",
       "      <th>1</th>\n",
       "      <td>1002</td>\n",
       "      <td>Shweta Anand</td>\n",
       "      <td>HR</td>\n",
       "      <td>34</td>\n",
       "      <td>Chennai</td>\n",
       "      <td>7000</td>\n",
       "      <td>4</td>\n",
       "    </tr>\n",
       "    <tr>\n",
       "      <th>2</th>\n",
       "      <td>1003</td>\n",
       "      <td>Devi Priya</td>\n",
       "      <td>Tester</td>\n",
       "      <td>22</td>\n",
       "      <td>Hyderabad</td>\n",
       "      <td>4000</td>\n",
       "      <td>1</td>\n",
       "    </tr>\n",
       "    <tr>\n",
       "      <th>3</th>\n",
       "      <td>1004</td>\n",
       "      <td>Prakash Senapati</td>\n",
       "      <td>Tutor</td>\n",
       "      <td>44</td>\n",
       "      <td>Hyderabad</td>\n",
       "      <td>12000</td>\n",
       "      <td>9</td>\n",
       "    </tr>\n",
       "    <tr>\n",
       "      <th>4</th>\n",
       "      <td>1005</td>\n",
       "      <td>Keerthivasan</td>\n",
       "      <td>Programmer</td>\n",
       "      <td>38</td>\n",
       "      <td>Bengaluru</td>\n",
       "      <td>11000</td>\n",
       "      <td>8</td>\n",
       "    </tr>\n",
       "  </tbody>\n",
       "</table>\n",
       "</div>"
      ],
      "text/plain": [
       "   EMPID           EMPNAME          DESIGNATION  AGE   LOCATION  SALARY  \\\n",
       "0   1001        Manikantan  Senior Data Analyst   32    Chennai   14000   \n",
       "1   1002      Shweta Anand                   HR   34    Chennai    7000   \n",
       "2   1003        Devi Priya               Tester   22  Hyderabad    4000   \n",
       "3   1004  Prakash Senapati                Tutor   44  Hyderabad   12000   \n",
       "4   1005      Keerthivasan           Programmer   38  Bengaluru   11000   \n",
       "\n",
       "   EXPERIENCE  \n",
       "0          10  \n",
       "1           4  \n",
       "2           1  \n",
       "3           9  \n",
       "4           8  "
      ]
     },
     "execution_count": 120,
     "metadata": {},
     "output_type": "execute_result"
    }
   ],
   "source": [
    "emp"
   ]
  },
  {
   "cell_type": "code",
   "execution_count": 121,
   "id": "69004bba-af9d-46ec-80f6-c1d5fc0523d1",
   "metadata": {},
   "outputs": [],
   "source": [
    "plt.rcParams['figure.figsize'] = 5,1"
   ]
  },
  {
   "cell_type": "code",
   "execution_count": 18,
   "id": "8ebfe060-b8c0-4ff2-8834-217be79a786f",
   "metadata": {},
   "outputs": [
    {
     "ename": "NameError",
     "evalue": "name 'sns' is not defined",
     "output_type": "error",
     "traceback": [
      "\u001b[1;31m---------------------------------------------------------------------------\u001b[0m",
      "\u001b[1;31mNameError\u001b[0m                                 Traceback (most recent call last)",
      "Cell \u001b[1;32mIn[18], line 1\u001b[0m\n\u001b[1;32m----> 1\u001b[0m vis5 \u001b[38;5;241m=\u001b[39m sns\u001b[38;5;241m.\u001b[39mlmplot(data\u001b[38;5;241m=\u001b[39memp,x\u001b[38;5;241m=\u001b[39m\u001b[38;5;124m'\u001b[39m\u001b[38;5;124mEXPERIENCE\u001b[39m\u001b[38;5;124m'\u001b[39m,y\u001b[38;5;241m=\u001b[39m\u001b[38;5;124m'\u001b[39m\u001b[38;5;124mSALARY\u001b[39m\u001b[38;5;124m'\u001b[39m,fit_reg\u001b[38;5;241m=\u001b[39m\u001b[38;5;28;01mFalse\u001b[39;00m)\n",
      "\u001b[1;31mNameError\u001b[0m: name 'sns' is not defined"
     ]
    }
   ],
   "source": [
    "vis5 = sns.lmplot(data=emp,x='EXPERIENCE',y='SALARY',fit_reg=False)"
   ]
  },
  {
   "cell_type": "code",
   "execution_count": 126,
   "id": "789a08b9-0389-4480-a0c5-9e6d5ba14574",
   "metadata": {},
   "outputs": [
    {
     "data": {
      "image/png": "[encoded data removed]",
      "text/plain": [
       "<Figure size 500x500 with 1 Axes>"
      ]
     },
     "metadata": {},
     "output_type": "display_data"
    }
   ],
   "source": [
    "vis5 = sns.lmplot(data=emp,x='EXPERIENCE',y='SALARY',fit_reg=True)"
   ]
  },
  {
   "cell_type": "code",
   "execution_count": null,
   "id": "869ac5bc-0e52-4c2d-9700-674bc9778d90",
   "metadata": {},
   "outputs": [],
   "source": []
  }
 ],
 "metadata": {
  "kernelspec": {
   "display_name": "Python 3 (ipykernel)",
   "language": "python",
   "name": "python3"
  },
  "language_info": {
   "codemirror_mode": {
    "name": "ipython",
    "version": 3
   },
   "file_extension": ".py",
   "mimetype": "text/x-python",
   "name": "python",
   "nbconvert_exporter": "python",
   "pygments_lexer": "ipython3",
   "version": "3.12.7"
  }
 },
 "nbformat": 4,
 "nbformat_minor": 5
}
